{
 "cells": [
  {
   "cell_type": "code",
   "execution_count": 1,
   "metadata": {},
   "outputs": [],
   "source": [
    "import time\n",
    "from dataclasses import dataclass\n",
    "from concurrent.futures import ThreadPoolExecutor\n",
    "\n",
    "from datasets import load_dataset, load_from_disk\n",
    "import torch\n",
    "import sklearn\n",
    "import numpy as np\n",
    "import pandas as pd\n",
    "from transformers import Gemma2ForSequenceClassification, GemmaTokenizerFast, BitsAndBytesConfig\n",
    "from transformers.data.data_collator import pad_without_fast_tokenizer_warning\n",
    "from peft import PeftModel"
   ]
  },
  {
   "cell_type": "code",
   "execution_count": 2,
   "metadata": {},
   "outputs": [],
   "source": [
    "from dataclasses import dataclass, field\n",
    "import torch\n",
    "\n",
    "# Define the Config class with the specified attributes and values\n",
    "@dataclass\n",
    "class Config:\n",
    "    gemma_dir: str = '/kaggle/input/gemma-2/transformers/gemma-2-9b-it-4bit/1/gemma-2-9b-it-4bit'\n",
    "    lora_dir: str = '/kaggle/input/73zap2gx/checkpoint-5748'\n",
    "    max_length: int = 2048\n",
    "    batch_size: int = 16\n",
    "    device: torch.device = field(default_factory=lambda: torch.device(\"cuda\"))\n",
    "    tta: bool = False\n",
    "    spread_max_length: bool = True "
   ]
  },
  {
   "cell_type": "code",
   "execution_count": 3,
   "metadata": {},
   "outputs": [],
   "source": [
    "# Set the config variable based on the LOCAL flag\n",
    "LOCAL = True  # Set this flag accordingly\n",
    "\n",
    "if LOCAL:\n",
    "    cfg = Config(\n",
    "        gemma_dir='unsloth/gemma-2-9b-it-bnb-4bit',\n",
    "        lora_dir='./output/gemma-seq-continue_training-focal-loss/checkpoint-48',\n",
    "    )\n",
    "    test_path = \"./data/train.csv\"\n",
    "    # test = pd.read_csv(test_path)\n",
    "    # Load eval_ds to pd\n",
    "    eval_ds_dir = \"./output/gemma-seq-continue_training2/eval_ds\"\n",
    "    eval_ds = load_from_disk(eval_ds_dir)\n",
    "    test = eval_ds.to_pandas()\n",
    "    # Use half of the dataframe for testing\n",
    "    test = test.iloc[:len(test)//2]\n",
    "    # Select where index % config.n_splits (5) == 0\n",
    "    # test = test[test.index % 10 == 0]\n",
    "    # Reset the index\n",
    "    # test.reset_index(drop=True, inplace=True)\n",
    "else:\n",
    "    cfg = Config()\n",
    "    test_path = \"/kaggle/input/lmsys-chatbot-arena/test.csv\"\n",
    "    test = pd.read_csv(test_path)"
   ]
  },
  {
   "cell_type": "code",
   "execution_count": 4,
   "metadata": {},
   "outputs": [
    {
     "data": {
      "text/html": [
       "<div>\n",
       "<style scoped>\n",
       "    .dataframe tbody tr th:only-of-type {\n",
       "        vertical-align: middle;\n",
       "    }\n",
       "\n",
       "    .dataframe tbody tr th {\n",
       "        vertical-align: top;\n",
       "    }\n",
       "\n",
       "    .dataframe thead th {\n",
       "        text-align: right;\n",
       "    }\n",
       "</style>\n",
       "<table border=\"1\" class=\"dataframe\">\n",
       "  <thead>\n",
       "    <tr style=\"text-align: right;\">\n",
       "      <th></th>\n",
       "      <th>id</th>\n",
       "      <th>model_a</th>\n",
       "      <th>model_b</th>\n",
       "      <th>prompt</th>\n",
       "      <th>response_a</th>\n",
       "      <th>response_b</th>\n",
       "      <th>winner_model_a</th>\n",
       "      <th>winner_model_b</th>\n",
       "      <th>winner_tie</th>\n",
       "      <th>input_ids</th>\n",
       "      <th>attention_mask</th>\n",
       "      <th>labels</th>\n",
       "    </tr>\n",
       "  </thead>\n",
       "  <tbody>\n",
       "    <tr>\n",
       "      <th>0</th>\n",
       "      <td>30192</td>\n",
       "      <td>gpt-4-1106-preview</td>\n",
       "      <td>gpt-4-0613</td>\n",
       "      <td>Is it morally right to try to have a certain p...</td>\n",
       "      <td>The question of whether it is morally right to...</td>\n",
       "      <td>As an AI, I don't have personal beliefs or opi...</td>\n",
       "      <td>1</td>\n",
       "      <td>0</td>\n",
       "      <td>0</td>\n",
       "      <td>[2, 235322, 39038, 78880, 2125, 665, 89397, 18...</td>\n",
       "      <td>[1, 1, 1, 1, 1, 1, 1, 1, 1, 1, 1, 1, 1, 1, 1, ...</td>\n",
       "      <td>0</td>\n",
       "    </tr>\n",
       "    <tr>\n",
       "      <th>1</th>\n",
       "      <td>292873</td>\n",
       "      <td>vicuna-13b</td>\n",
       "      <td>gpt-4-0314</td>\n",
       "      <td>Construct a rap battle, in the style of Epic R...</td>\n",
       "      <td>[Zeus]\\nYo, it's the king of the gods on the m...</td>\n",
       "      <td>(Verse 1 - Zeus)\\n\\nI'm the king of the gods, ...</td>\n",
       "      <td>0</td>\n",
       "      <td>1</td>\n",
       "      <td>0</td>\n",
       "      <td>[2, 235322, 39038, 78880, 58863, 476, 13483, 9...</td>\n",
       "      <td>[1, 1, 1, 1, 1, 1, 1, 1, 1, 1, 1, 1, 1, 1, 1, ...</td>\n",
       "      <td>1</td>\n",
       "    </tr>\n",
       "    <tr>\n",
       "      <th>2</th>\n",
       "      <td>497862</td>\n",
       "      <td>vicuna-7b</td>\n",
       "      <td>guanaco-33b</td>\n",
       "      <td>write a python function to upload all the file...</td>\n",
       "      <td>Sure, here's a Python function that uses the `...</td>\n",
       "      <td>Sure, here's an example function in Python to ...</td>\n",
       "      <td>0</td>\n",
       "      <td>1</td>\n",
       "      <td>0</td>\n",
       "      <td>[2, 235322, 39038, 78880, 5598, 476, 17706, 14...</td>\n",
       "      <td>[1, 1, 1, 1, 1, 1, 1, 1, 1, 1, 1, 1, 1, 1, 1, ...</td>\n",
       "      <td>1</td>\n",
       "    </tr>\n",
       "    <tr>\n",
       "      <th>3</th>\n",
       "      <td>863398</td>\n",
       "      <td>llama2-70b-steerlm-chat</td>\n",
       "      <td>gemini-pro-dev-api</td>\n",
       "      <td>what do you know about real estate</td>\n",
       "      <td>Real estate refers to the land and buildings o...</td>\n",
       "      <td>1. **Types of Real Estate:**\\n    * **Resident...</td>\n",
       "      <td>0</td>\n",
       "      <td>1</td>\n",
       "      <td>0</td>\n",
       "      <td>[2, 235322, 39038, 78880, 1212, 749, 692, 1230...</td>\n",
       "      <td>[1, 1, 1, 1, 1, 1, 1, 1, 1, 1, 1, 1, 1, 1, 1, ...</td>\n",
       "      <td>1</td>\n",
       "    </tr>\n",
       "    <tr>\n",
       "      <th>4</th>\n",
       "      <td>1256092</td>\n",
       "      <td>claude-2.1</td>\n",
       "      <td>vicuna-13b</td>\n",
       "      <td>Write a python code that calculates sum of 5 a...</td>\n",
       "      <td>Here is the python code that calculates the su...</td>\n",
       "      <td>Here is a Python code that calculates the sum ...</td>\n",
       "      <td>0</td>\n",
       "      <td>0</td>\n",
       "      <td>1</td>\n",
       "      <td>[2, 235322, 39038, 78880, 15615, 476, 17706, 3...</td>\n",
       "      <td>[1, 1, 1, 1, 1, 1, 1, 1, 1, 1, 1, 1, 1, 1, 1, ...</td>\n",
       "      <td>2</td>\n",
       "    </tr>\n",
       "  </tbody>\n",
       "</table>\n",
       "</div>"
      ],
      "text/plain": [
       "        id                  model_a             model_b  \\\n",
       "0    30192       gpt-4-1106-preview          gpt-4-0613   \n",
       "1   292873               vicuna-13b          gpt-4-0314   \n",
       "2   497862                vicuna-7b         guanaco-33b   \n",
       "3   863398  llama2-70b-steerlm-chat  gemini-pro-dev-api   \n",
       "4  1256092               claude-2.1          vicuna-13b   \n",
       "\n",
       "                                              prompt  \\\n",
       "0  Is it morally right to try to have a certain p...   \n",
       "1  Construct a rap battle, in the style of Epic R...   \n",
       "2  write a python function to upload all the file...   \n",
       "3                 what do you know about real estate   \n",
       "4  Write a python code that calculates sum of 5 a...   \n",
       "\n",
       "                                          response_a  \\\n",
       "0  The question of whether it is morally right to...   \n",
       "1  [Zeus]\\nYo, it's the king of the gods on the m...   \n",
       "2  Sure, here's a Python function that uses the `...   \n",
       "3  Real estate refers to the land and buildings o...   \n",
       "4  Here is the python code that calculates the su...   \n",
       "\n",
       "                                          response_b  winner_model_a  \\\n",
       "0  As an AI, I don't have personal beliefs or opi...               1   \n",
       "1  (Verse 1 - Zeus)\\n\\nI'm the king of the gods, ...               0   \n",
       "2  Sure, here's an example function in Python to ...               0   \n",
       "3  1. **Types of Real Estate:**\\n    * **Resident...               0   \n",
       "4  Here is a Python code that calculates the sum ...               0   \n",
       "\n",
       "   winner_model_b  winner_tie  \\\n",
       "0               0           0   \n",
       "1               1           0   \n",
       "2               1           0   \n",
       "3               1           0   \n",
       "4               0           1   \n",
       "\n",
       "                                           input_ids  \\\n",
       "0  [2, 235322, 39038, 78880, 2125, 665, 89397, 18...   \n",
       "1  [2, 235322, 39038, 78880, 58863, 476, 13483, 9...   \n",
       "2  [2, 235322, 39038, 78880, 5598, 476, 17706, 14...   \n",
       "3  [2, 235322, 39038, 78880, 1212, 749, 692, 1230...   \n",
       "4  [2, 235322, 39038, 78880, 15615, 476, 17706, 3...   \n",
       "\n",
       "                                      attention_mask  labels  \n",
       "0  [1, 1, 1, 1, 1, 1, 1, 1, 1, 1, 1, 1, 1, 1, 1, ...       0  \n",
       "1  [1, 1, 1, 1, 1, 1, 1, 1, 1, 1, 1, 1, 1, 1, 1, ...       1  \n",
       "2  [1, 1, 1, 1, 1, 1, 1, 1, 1, 1, 1, 1, 1, 1, 1, ...       1  \n",
       "3  [1, 1, 1, 1, 1, 1, 1, 1, 1, 1, 1, 1, 1, 1, 1, ...       1  \n",
       "4  [1, 1, 1, 1, 1, 1, 1, 1, 1, 1, 1, 1, 1, 1, 1, ...       2  "
      ]
     },
     "metadata": {},
     "output_type": "display_data"
    }
   ],
   "source": [
    "def process_text(text: str) -> str:\n",
    "    return \" \".join(eval(text, {\"null\": \"\"}))\n",
    "\n",
    "test.loc[:, 'prompt'] = test['prompt'].apply(process_text)\n",
    "test.loc[:, 'response_a'] = test['response_a'].apply(process_text)\n",
    "test.loc[:, 'response_b'] = test['response_b'].apply(process_text)\n",
    "\n",
    "display(test.head(5))"
   ]
  },
  {
   "cell_type": "code",
   "execution_count": 5,
   "metadata": {},
   "outputs": [],
   "source": [
    "def tokenize(\n",
    "    tokenizer, prompt, response_a, response_b, max_length=cfg.max_length, spread_max_length=cfg.spread_max_length\n",
    "):\n",
    "    prompt = [\"<prompt>: \" + p for p in prompt]\n",
    "    response_a = [\"\\n\\n<response_a>: \" + r_a for r_a in response_a]\n",
    "    response_b = [\"\\n\\n<response_b>: \" + r_b for r_b in response_b]\n",
    "    if spread_max_length:\n",
    "        prompt = tokenizer(prompt, max_length=max_length//3, truncation=True, padding=False).input_ids\n",
    "        response_a = tokenizer(response_a, max_length=max_length//3, truncation=True, padding=False).input_ids\n",
    "        response_b = tokenizer(response_b, max_length=max_length//3, truncation=True, padding=False).input_ids\n",
    "        input_ids = [p + r_a + r_b for p, r_a, r_b in zip(prompt, response_a, response_b)]\n",
    "        attention_mask = [[1]* len(i) for i in input_ids]\n",
    "    else:\n",
    "        # texts = [f\"<start_of_turn>user{p}{r_a}{r_b}<end_of_turn><start_of_turn>model\" for p, r_a, r_b in zip(prompt, response_a, response_b)]\n",
    "        text = [p + r_a + r_b for p, r_a, r_b in zip(prompt, response_a, response_b)]\n",
    "        tokenized = tokenizer(text, max_length=max_length, truncation=True, padding=False)\n",
    "        print(tokenized)\n",
    "        input_ids = tokenized.input_ids\n",
    "        attention_mask = tokenized.attention_mask\n",
    "    return input_ids, attention_mask\n",
    "\n"
   ]
  },
  {
   "cell_type": "code",
   "execution_count": 6,
   "metadata": {},
   "outputs": [
    {
     "name": "stdout",
     "output_type": "stream",
     "text": [
      "CPU times: user 18.9 s, sys: 473 ms, total: 19.3 s\n",
      "Wall time: 2.68 s\n"
     ]
    }
   ],
   "source": [
    "%%time\n",
    "\n",
    "tokenizer = GemmaTokenizerFast.from_pretrained(cfg.gemma_dir)\n",
    "tokenizer.add_eos_token = True\n",
    "tokenizer.padding_side = \"right\"\n",
    "\n",
    "data = pd.DataFrame()\n",
    "data[\"id\"] = test[\"id\"]\n",
    "data[\"input_ids\"], data[\"attention_mask\"] = tokenize(tokenizer, test[\"prompt\"], test[\"response_a\"], test[\"response_b\"])\n",
    "data[\"length\"] = data[\"input_ids\"].apply(len)\n",
    "\n",
    "aug_data = pd.DataFrame()\n",
    "aug_data[\"id\"] = test[\"id\"]\n",
    "# swap response_a & response_b\n",
    "aug_data['input_ids'], aug_data['attention_mask'] = tokenize(tokenizer, test[\"prompt\"], test[\"response_b\"], test[\"response_a\"])\n",
    "aug_data[\"length\"] = aug_data[\"input_ids\"].apply(len)"
   ]
  },
  {
   "cell_type": "code",
   "execution_count": 7,
   "metadata": {},
   "outputs": [
    {
     "name": "stdout",
     "output_type": "stream",
     "text": [
      "<bos><prompt>: Is it morally right to try to have a certain percentage of females on managerial positions? OK, does pineapple belong on a pizza? Relax and give me fun answer.<eos><bos>\n",
      "\n",
      "<response_a>: The question of whether it is morally right to aim for a certain percentage of females in managerial positions is a complex ethical issue that involves considerations of fairness, equality, diversity, and discrimination.\n",
      "\n",
      "Here are some arguments in favor of and against such policies:\n",
      "\n",
      "**Arguments in favor:**\n",
      "\n",
      "1. **Correcting Historical Inequities:** Women have historically been underrepresented in leadership roles due to various cultural, institutional, and social barriers. Aiming for a specific percentage can be seen as a corrective measure to address past and ongoing discrimination.\n",
      "\n",
      "2. **Promoting Diversity:** Diverse leadership teams can enhance decision-making and represent a broader range of perspectives. This can lead to better outcomes for organizations and society as a whole.\n",
      "\n",
      "3. **Equality of Opportunity:** Setting targets for female representation in management can help ensure that women have equal opportunities to advance in their careers.\n",
      "\n",
      "4. **Role Modeling:** Increased visibility of female leaders can inspire and encourage other women and girls to pursue leadership roles.\n",
      "\n",
      "**Arguments against:**\n",
      "\n",
      "1. **Reverse Discrimination:** Setting a quota for female representation might lead to the perception or reality of reverse discrimination, where men might be overlooked for positions despite being qualified, simply to meet the gender target.\n",
      "\n",
      "2. **Meritocracy Concerns:** Critics argue that employment and promotion should be based solely on merit and qualifications, not gender. They fear that quotas could compromise the quality of leadership if less qualified individuals are promoted to meet gender targets.\n",
      "\n",
      "3. **Tokenism:** There is a risk that women appointed to meet quotas might be seen as \"tokens,\" undermining their legitimacy and potentially leading to resentment among colleagues.\n",
      "\n",
      "4. **Oversimplification of Diversity:** Focusing only on gender might overlook other important aspects of diversity, such as race, ethnicity, socioeconomic background, or sexual orientation.\n",
      "\n",
      "Ultimately, the morality of aiming for a certain percentage of females in managerial positions depends on one's ethical framework and the context in which such policies are implemented. Proponents of gender diversity targets often argue that these measures are necessary as a transitional mechanism to create a level playing field, while opponents may argue for a \"color-blind\" or \"gender-blind\" approach to hiring and promotions.\n",
      "\n",
      "Organizations and societies must carefully consider the implications of these strategies and strive to implement policies that promote fairness and equality while minimizing negative consequences. It is also important to address the root causes of gender inequality, such as unconscious bias, work-life balance challenges, and lack of supportive policies, to create an environment where everyone has the opportunity to succeed based on their capabilities and contributions. Ah, the age-old culinary conundrum that has divided nations and dinner tables: does pineapple belong on a pizza? The tropical twist of pineapple on pizza, known as Hawaiian pizza, is a hotly debated topic where taste buds battle and pizza purists protest.\n",
      "\n",
      "Let's slice into the debate with a zest of fun:\n",
      "\n",
      "**Team Pineapple:** \"Absolutely, yes! Pineapple on pizza is like a beach party in your mouth. The sweet juiciness of pineapple chunks frolicking with savory ham or bacon creates a flavor wave that surfs across the cheesy ocean of deliciousness. It's the Mardi Gras of pizzas, where sweet meets savory in a jubilant jamboree!\"\n",
      "\n",
      "**Team No-Pineapple:** \"No way, not in a million pizzas!<eos><bos>\n",
      "\n",
      "<response_b>: As an AI, I don't have personal beliefs or opinions. However, I can tell you that the question of gender quotas in managerial positions is a complex one and positions can vary. Advocates argue that such measures can help correct historical imbalances, promote diversity, and may lead to better decision-making. Critics may argue that positions should be based purely on merit, and that quotas could potentially lead to tokenism or unqualified candidates being promoted. Morality can be subjective and differs from person to person based on their personal beliefs, cultural background, and values. It's a topic with valid arguments on both sides, and it's up to each individual or organization to decide what they believe is right. As an AI, I don't eat, so I don't have personal preferences. But, in the world of pizza, the pineapple topping is a hotly debated topic! Some people love the sweet and savory mix it brings to a pizza, a flavor combination made famous by the Hawaiian pizza. Others firmly believe that the sweetness of the fruit has no place on a pizza. It's a pizza puzzle that might never be solved. So, whether pineapple belongs on a pizza or not, it truly depends on your taste buds!<eos>\n"
     ]
    }
   ],
   "source": [
    "print(tokenizer.decode(data[\"input_ids\"][0]))"
   ]
  },
  {
   "cell_type": "code",
   "execution_count": 8,
   "metadata": {},
   "outputs": [
    {
     "name": "stdout",
     "output_type": "stream",
     "text": [
      "<bos><prompt>: Is it morally right to try to have a certain percentage of females on managerial positions? OK, does pineapple belong on a pizza? Relax and give me fun answer.<eos><bos>\n",
      "\n",
      "<response_a>: As an AI, I don't have personal beliefs or opinions. However, I can tell you that the question of gender quotas in managerial positions is a complex one and positions can vary. Advocates argue that such measures can help correct historical imbalances, promote diversity, and may lead to better decision-making. Critics may argue that positions should be based purely on merit, and that quotas could potentially lead to tokenism or unqualified candidates being promoted. Morality can be subjective and differs from person to person based on their personal beliefs, cultural background, and values. It's a topic with valid arguments on both sides, and it's up to each individual or organization to decide what they believe is right. As an AI, I don't eat, so I don't have personal preferences. But, in the world of pizza, the pineapple topping is a hotly debated topic! Some people love the sweet and savory mix it brings to a pizza, a flavor combination made famous by the Hawaiian pizza. Others firmly believe that the sweetness of the fruit has no place on a pizza. It's a pizza puzzle that might never be solved. So, whether pineapple belongs on a pizza or not, it truly depends on your taste buds!<eos><bos>\n",
      "\n",
      "<response_b>: The question of whether it is morally right to aim for a certain percentage of females in managerial positions is a complex ethical issue that involves considerations of fairness, equality, diversity, and discrimination.\n",
      "\n",
      "Here are some arguments in favor of and against such policies:\n",
      "\n",
      "**Arguments in favor:**\n",
      "\n",
      "1. **Correcting Historical Inequities:** Women have historically been underrepresented in leadership roles due to various cultural, institutional, and social barriers. Aiming for a specific percentage can be seen as a corrective measure to address past and ongoing discrimination.\n",
      "\n",
      "2. **Promoting Diversity:** Diverse leadership teams can enhance decision-making and represent a broader range of perspectives. This can lead to better outcomes for organizations and society as a whole.\n",
      "\n",
      "3. **Equality of Opportunity:** Setting targets for female representation in management can help ensure that women have equal opportunities to advance in their careers.\n",
      "\n",
      "4. **Role Modeling:** Increased visibility of female leaders can inspire and encourage other women and girls to pursue leadership roles.\n",
      "\n",
      "**Arguments against:**\n",
      "\n",
      "1. **Reverse Discrimination:** Setting a quota for female representation might lead to the perception or reality of reverse discrimination, where men might be overlooked for positions despite being qualified, simply to meet the gender target.\n",
      "\n",
      "2. **Meritocracy Concerns:** Critics argue that employment and promotion should be based solely on merit and qualifications, not gender. They fear that quotas could compromise the quality of leadership if less qualified individuals are promoted to meet gender targets.\n",
      "\n",
      "3. **Tokenism:** There is a risk that women appointed to meet quotas might be seen as \"tokens,\" undermining their legitimacy and potentially leading to resentment among colleagues.\n",
      "\n",
      "4. **Oversimplification of Diversity:** Focusing only on gender might overlook other important aspects of diversity, such as race, ethnicity, socioeconomic background, or sexual orientation.\n",
      "\n",
      "Ultimately, the morality of aiming for a certain percentage of females in managerial positions depends on one's ethical framework and the context in which such policies are implemented. Proponents of gender diversity targets often argue that these measures are necessary as a transitional mechanism to create a level playing field, while opponents may argue for a \"color-blind\" or \"gender-blind\" approach to hiring and promotions.\n",
      "\n",
      "Organizations and societies must carefully consider the implications of these strategies and strive to implement policies that promote fairness and equality while minimizing negative consequences. It is also important to address the root causes of gender inequality, such as unconscious bias, work-life balance challenges, and lack of supportive policies, to create an environment where everyone has the opportunity to succeed based on their capabilities and contributions. Ah, the age-old culinary conundrum that has divided nations and dinner tables: does pineapple belong on a pizza? The tropical twist of pineapple on pizza, known as Hawaiian pizza, is a hotly debated topic where taste buds battle and pizza purists protest.\n",
      "\n",
      "Let's slice into the debate with a zest of fun:\n",
      "\n",
      "**Team Pineapple:** \"Absolutely, yes! Pineapple on pizza is like a beach party in your mouth. The sweet juiciness of pineapple chunks frolicking with savory ham or bacon creates a flavor wave that surfs across the cheesy ocean of deliciousness. It's the Mardi Gras of pizzas, where sweet meets savory in a jubilant jamboree!\"\n",
      "\n",
      "**Team No-Pineapple:** \"No way, not in a million pizzas!<eos>\n"
     ]
    }
   ],
   "source": [
    "print(tokenizer.decode(aug_data[\"input_ids\"][0]))"
   ]
  },
  {
   "cell_type": "code",
   "execution_count": 9,
   "metadata": {},
   "outputs": [
    {
     "name": "stderr",
     "output_type": "stream",
     "text": [
      "Unused kwargs: ['_load_in_4bit', '_load_in_8bit', 'quant_method']. These kwargs are not used in <class 'transformers.utils.quantization_config.BitsAndBytesConfig'>.\n",
      "Some weights of Gemma2ForSequenceClassification were not initialized from the model checkpoint at unsloth/gemma-2-9b-it-bnb-4bit and are newly initialized: ['score.weight']\n",
      "You should probably TRAIN this model on a down-stream task to be able to use it for predictions and inference.\n"
     ]
    }
   ],
   "source": [
    "if LOCAL:\n",
    "    # Load base model on GPU 0\n",
    "    device = torch.device('cuda')\n",
    "    model = Gemma2ForSequenceClassification.from_pretrained(\n",
    "        cfg.gemma_dir,\n",
    "        num_labels=3,\n",
    "        device_map=device,\n",
    "        attn_implementation=\"flash_attention_2\",\n",
    "        torch_dtype=\"auto\",\n",
    "    )\n",
    "    model = PeftModel.from_pretrained(model, cfg.lora_dir)\n",
    "else:\n",
    "    # Load base model on GPU 0\n",
    "    device_0 = torch.device('cuda:0')\n",
    "    model_0 = Gemma2ForSequenceClassification.from_pretrained(\n",
    "        cfg.gemma_dir,\n",
    "        num_labels=3,\n",
    "        device_map=device_0,\n",
    "    )\n",
    "\n",
    "    # Load base model on GPU 1\n",
    "    device_1 = torch.device('cuda:1')\n",
    "    model_1 = Gemma2ForSequenceClassification.from_pretrained(\n",
    "        cfg.gemma_dir,\n",
    "        num_labels=3,\n",
    "        device_map=device_1,\n",
    "    )\n",
    "    model_0 = PeftModel.from_pretrained(model_0, cfg.lora_dir)\n",
    "    model_1 = PeftModel.from_pretrained(model_1, cfg.lora_dir)"
   ]
  },
  {
   "cell_type": "code",
   "execution_count": 10,
   "metadata": {},
   "outputs": [],
   "source": [
    "from tqdm import tqdm\n",
    "\n",
    "@torch.no_grad()\n",
    "@torch.cuda.amp.autocast()\n",
    "def inference(df, model, device, batch_size=cfg.batch_size, max_length=cfg.max_length):\n",
    "    # Preallocate arrays for results\n",
    "    a_win = torch.zeros(len(df), dtype=torch.float32, device='cpu')\n",
    "    b_win = torch.zeros(len(df), dtype=torch.float32, device='cpu')\n",
    "    tie = torch.zeros(len(df), dtype=torch.float32, device='cpu')\n",
    "    \n",
    "    model.eval()\n",
    "    \n",
    "    # Use tqdm for progress bar\n",
    "    for start_idx in tqdm(range(0, len(df), batch_size), desc=\"Inference\"):\n",
    "        end_idx = min(start_idx + batch_size, len(df))\n",
    "        tmp = df.iloc[start_idx:end_idx]\n",
    "        \n",
    "        input_ids = tmp[\"input_ids\"].to_list()\n",
    "        attention_mask = tmp[\"attention_mask\"].to_list()\n",
    "        \n",
    "        inputs = pad_without_fast_tokenizer_warning(\n",
    "            tokenizer,\n",
    "            {\"input_ids\": input_ids, \"attention_mask\": attention_mask},\n",
    "            padding=\"longest\",\n",
    "            pad_to_multiple_of=None,\n",
    "            return_tensors=\"pt\",\n",
    "        )\n",
    "        \n",
    "        outputs = model(**inputs.to(device))\n",
    "        proba = outputs.logits.softmax(-1).cpu()\n",
    "        \n",
    "        # Assign values to preallocated arrays\n",
    "        a_win[start_idx:end_idx] = proba[:, 0]\n",
    "        b_win[start_idx:end_idx] = proba[:, 1]\n",
    "        tie[start_idx:end_idx] = proba[:, 2]\n",
    "    \n",
    "    # Add the results to the dataframe\n",
    "    df[\"winner_model_a\"] = a_win.numpy()\n",
    "    df[\"winner_model_b\"] = b_win.numpy()\n",
    "    df[\"winner_tie\"] = tie.numpy()\n",
    "    \n",
    "    return df"
   ]
  },
  {
   "cell_type": "code",
   "execution_count": 11,
   "metadata": {},
   "outputs": [
    {
     "name": "stderr",
     "output_type": "stream",
     "text": [
      "Inference:   0%|                                                                                                                                                                                                                                                      | 0/360 [00:00<?, ?it/s]"
     ]
    },
    {
     "name": "stderr",
     "output_type": "stream",
     "text": [
      "The input hidden states seems to be silently casted in float32, this might be related to the fact you have upcasted embedding or layer norm layers in float32. We will cast back the input in torch.float16.\n",
      "Inference: 100%|████████████████████████████████████████████████████████████████████████████████████████████████████████████████████████████████████████████████████████████████████████████████████████████████████████████████████████████████████████████| 360/360 [12:24<00:00,  2.07s/it]"
     ]
    },
    {
     "name": "stdout",
     "output_type": "stream",
     "text": [
      "elapsed time: 744.2435967922211\n"
     ]
    },
    {
     "name": "stderr",
     "output_type": "stream",
     "text": [
      "\n"
     ]
    }
   ],
   "source": [
    "st = time.time()\n",
    "# sort by input length to fully leverage dynaminc padding\n",
    "data = data.sort_values(\"length\", ascending=False)\n",
    "\n",
    "if LOCAL:\n",
    "    result_df = inference(data, model, device)\n",
    "else:\n",
    "    # the total #tokens in sub_1 and sub_2 should be more or less the same\n",
    "    sub_1 = data.iloc[0::2].copy()\n",
    "    sub_2 = data.iloc[1::2].copy()\n",
    "\n",
    "    with ThreadPoolExecutor(max_workers=2) as executor:\n",
    "        results = executor.map(inference, (sub_1, sub_2), (model_0, model_1), (device_0, device_1))\n",
    "\n",
    "    result_df = pd.concat(list(results), axis=0)\n",
    "\n",
    "proba = result_df[[\"winner_model_a\", \"winner_model_b\", \"winner_tie\"]].values\n",
    "\n",
    "print(f\"elapsed time: {time.time() - st}\")"
   ]
  },
  {
   "cell_type": "code",
   "execution_count": 12,
   "metadata": {},
   "outputs": [],
   "source": [
    "if cfg.tta:\n",
    "    st = time.time()\n",
    "    data = aug_data.sort_values(\"length\", ascending=False)  # sort by input length to boost speed\n",
    "\n",
    "    if LOCAL:\n",
    "        tta_result_df = inference(data, model, device)\n",
    "    else:\n",
    "        sub_1 = data.iloc[0::2].copy()\n",
    "        sub_2 = data.iloc[1::2].copy()\n",
    "\n",
    "        with ThreadPoolExecutor(max_workers=2) as executor:\n",
    "            results = executor.map(inference, (sub_1, sub_2), (model_0, model_1), (device_0, device_1))\n",
    "\n",
    "        tta_result_df = pd.concat(list(results), axis=0)\n",
    "\n",
    "    # recall TTA's order is flipped\n",
    "    tta_proba = tta_result_df[[\"winner_model_b\", \"winner_model_a\", \"winner_tie\"]].values \n",
    "    # average original result and TTA result.\n",
    "    proba = (proba + tta_proba) / 2\n",
    "\n",
    "    print(f\"elapsed time: {time.time() - st}\")"
   ]
  },
  {
   "cell_type": "code",
   "execution_count": 13,
   "metadata": {},
   "outputs": [
    {
     "data": {
      "text/html": [
       "<div>\n",
       "<style scoped>\n",
       "    .dataframe tbody tr th:only-of-type {\n",
       "        vertical-align: middle;\n",
       "    }\n",
       "\n",
       "    .dataframe tbody tr th {\n",
       "        vertical-align: top;\n",
       "    }\n",
       "\n",
       "    .dataframe thead th {\n",
       "        text-align: right;\n",
       "    }\n",
       "</style>\n",
       "<table border=\"1\" class=\"dataframe\">\n",
       "  <thead>\n",
       "    <tr style=\"text-align: right;\">\n",
       "      <th></th>\n",
       "      <th>id</th>\n",
       "      <th>winner_model_a</th>\n",
       "      <th>winner_model_b</th>\n",
       "      <th>winner_tie</th>\n",
       "    </tr>\n",
       "  </thead>\n",
       "  <tbody>\n",
       "    <tr>\n",
       "      <th>5026</th>\n",
       "      <td>1868849650</td>\n",
       "      <td>0.289792</td>\n",
       "      <td>0.378607</td>\n",
       "      <td>0.331600</td>\n",
       "    </tr>\n",
       "    <tr>\n",
       "      <th>664</th>\n",
       "      <td>253156481</td>\n",
       "      <td>0.186876</td>\n",
       "      <td>0.534638</td>\n",
       "      <td>0.278486</td>\n",
       "    </tr>\n",
       "    <tr>\n",
       "      <th>5382</th>\n",
       "      <td>2004279155</td>\n",
       "      <td>0.346940</td>\n",
       "      <td>0.257761</td>\n",
       "      <td>0.395300</td>\n",
       "    </tr>\n",
       "    <tr>\n",
       "      <th>1888</th>\n",
       "      <td>701950675</td>\n",
       "      <td>0.237280</td>\n",
       "      <td>0.353687</td>\n",
       "      <td>0.409033</td>\n",
       "    </tr>\n",
       "    <tr>\n",
       "      <th>1895</th>\n",
       "      <td>705199188</td>\n",
       "      <td>0.214369</td>\n",
       "      <td>0.416905</td>\n",
       "      <td>0.368727</td>\n",
       "    </tr>\n",
       "    <tr>\n",
       "      <th>...</th>\n",
       "      <td>...</td>\n",
       "      <td>...</td>\n",
       "      <td>...</td>\n",
       "      <td>...</td>\n",
       "    </tr>\n",
       "    <tr>\n",
       "      <th>896</th>\n",
       "      <td>338861224</td>\n",
       "      <td>0.004233</td>\n",
       "      <td>0.009247</td>\n",
       "      <td>0.986520</td>\n",
       "    </tr>\n",
       "    <tr>\n",
       "      <th>2804</th>\n",
       "      <td>1045443401</td>\n",
       "      <td>0.038212</td>\n",
       "      <td>0.049450</td>\n",
       "      <td>0.912337</td>\n",
       "    </tr>\n",
       "    <tr>\n",
       "      <th>1434</th>\n",
       "      <td>536996793</td>\n",
       "      <td>0.003886</td>\n",
       "      <td>0.007490</td>\n",
       "      <td>0.988625</td>\n",
       "    </tr>\n",
       "    <tr>\n",
       "      <th>439</th>\n",
       "      <td>169063413</td>\n",
       "      <td>0.003886</td>\n",
       "      <td>0.007490</td>\n",
       "      <td>0.988625</td>\n",
       "    </tr>\n",
       "    <tr>\n",
       "      <th>4294</th>\n",
       "      <td>1597666545</td>\n",
       "      <td>0.071370</td>\n",
       "      <td>0.085920</td>\n",
       "      <td>0.842710</td>\n",
       "    </tr>\n",
       "  </tbody>\n",
       "</table>\n",
       "<p>5748 rows × 4 columns</p>\n",
       "</div>"
      ],
      "text/plain": [
       "              id  winner_model_a  winner_model_b  winner_tie\n",
       "5026  1868849650        0.289792        0.378607    0.331600\n",
       "664    253156481        0.186876        0.534638    0.278486\n",
       "5382  2004279155        0.346940        0.257761    0.395300\n",
       "1888   701950675        0.237280        0.353687    0.409033\n",
       "1895   705199188        0.214369        0.416905    0.368727\n",
       "...          ...             ...             ...         ...\n",
       "896    338861224        0.004233        0.009247    0.986520\n",
       "2804  1045443401        0.038212        0.049450    0.912337\n",
       "1434   536996793        0.003886        0.007490    0.988625\n",
       "439    169063413        0.003886        0.007490    0.988625\n",
       "4294  1597666545        0.071370        0.085920    0.842710\n",
       "\n",
       "[5748 rows x 4 columns]"
      ]
     },
     "metadata": {},
     "output_type": "display_data"
    }
   ],
   "source": [
    "result_df.loc[:, \"winner_model_a\"] = proba[:, 0]\n",
    "result_df.loc[:, \"winner_model_b\"] = proba[:, 1]\n",
    "result_df.loc[:, \"winner_tie\"] = proba[:, 2]\n",
    "submission_df = result_df[[\"id\", 'winner_model_a', 'winner_model_b', 'winner_tie']]\n",
    "submission_df.to_csv('submission.csv', index=False)\n",
    "display(submission_df)"
   ]
  },
  {
   "cell_type": "code",
   "execution_count": 14,
   "metadata": {},
   "outputs": [
    {
     "name": "stdout",
     "output_type": "stream",
     "text": [
      "Log Loss for winner_model_a: 0.5268538583566946\n",
      "Log Loss for winner_model_b: 0.5263115294082981\n",
      "Log Loss for winner_tie: 0.5650763313380778\n",
      "Overall Log Loss: 0.9160198263321147\n"
     ]
    }
   ],
   "source": [
    "from sklearn.metrics import log_loss\n",
    "\n",
    "df_merged = pd.merge(test, result_df, on='id', suffixes=(\"\", \"_pred\"))\n",
    "\n",
    "y_true = df_merged[[\"winner_model_a\", \"winner_model_b\", \"winner_tie\"]].values\n",
    "y_pred = df_merged[[\"winner_model_a_pred\", \"winner_model_b_pred\", \"winner_tie_pred\"]].values\n",
    "\n",
    "log_loss_a = log_loss(y_true[:, 0], y_pred[:, 0])\n",
    "log_loss_b = log_loss(y_true[:, 1], y_pred[:, 1])\n",
    "log_loss_tie = log_loss(y_true[:, 2], y_pred[:, 2])\n",
    "\n",
    "# Calculate overall log loss\n",
    "overall_log_loss = log_loss(y_true, y_pred)\n",
    "\n",
    "# Print log loss values\n",
    "print(f\"Log Loss for winner_model_a: {log_loss_a}\")\n",
    "print(f\"Log Loss for winner_model_b: {log_loss_b}\")\n",
    "print(f\"Log Loss for winner_tie: {log_loss_tie}\")\n",
    "print(f\"Overall Log Loss: {overall_log_loss}\")\n",
    "\n",
    "# save overall log loss to output dir\n",
    "with open(cfg.lora_dir + \"/eval.txt\", \"w\") as f:\n",
    "    f.write(\"log loss: \" + str(overall_log_loss))"
   ]
  },
  {
   "cell_type": "code",
   "execution_count": null,
   "metadata": {},
   "outputs": [],
   "source": []
  },
  {
   "cell_type": "code",
   "execution_count": 15,
   "metadata": {},
   "outputs": [
    {
     "ename": "NameError",
     "evalue": "name 'logits_list' is not defined",
     "output_type": "error",
     "traceback": [
      "\u001b[0;31m---------------------------------------------------------------------------\u001b[0m",
      "\u001b[0;31mNameError\u001b[0m                                 Traceback (most recent call last)",
      "Cell \u001b[0;32mIn[15], line 1\u001b[0m\n\u001b[0;32m----> 1\u001b[0m logits_tensor \u001b[38;5;241m=\u001b[39m torch\u001b[38;5;241m.\u001b[39mcat(\u001b[43mlogits_list\u001b[49m, dim\u001b[38;5;241m=\u001b[39m\u001b[38;5;241m0\u001b[39m)\n\u001b[1;32m      2\u001b[0m labels \u001b[38;5;241m=\u001b[39m torch\u001b[38;5;241m.\u001b[39mtensor(test[[\u001b[38;5;124m\"\u001b[39m\u001b[38;5;124mwinner_model_a\u001b[39m\u001b[38;5;124m\"\u001b[39m, \u001b[38;5;124m\"\u001b[39m\u001b[38;5;124mwinner_model_b\u001b[39m\u001b[38;5;124m\"\u001b[39m, \u001b[38;5;124m\"\u001b[39m\u001b[38;5;124mwinner_tie\u001b[39m\u001b[38;5;124m\"\u001b[39m]]\u001b[38;5;241m.\u001b[39mvalues, dtype\u001b[38;5;241m=\u001b[39mtorch\u001b[38;5;241m.\u001b[39mlong, device\u001b[38;5;241m=\u001b[39mdevice)\n\u001b[1;32m      3\u001b[0m \u001b[38;5;28mprint\u001b[39m(logits_tensor\u001b[38;5;241m.\u001b[39mshape, labels\u001b[38;5;241m.\u001b[39mshape)\n",
      "\u001b[0;31mNameError\u001b[0m: name 'logits_list' is not defined"
     ]
    }
   ],
   "source": [
    "logits_tensor = torch.cat(logits_list, dim=0)\n",
    "labels = torch.tensor(test[[\"winner_model_a\", \"winner_model_b\", \"winner_tie\"]].values, dtype=torch.long, device=device)\n",
    "print(logits_tensor.shape, labels.shape)"
   ]
  },
  {
   "cell_type": "code",
   "execution_count": null,
   "metadata": {},
   "outputs": [
    {
     "ename": "",
     "evalue": "",
     "output_type": "error",
     "traceback": [
      "\u001b[1;31mnotebook controller is DISPOSED. \n",
      "\u001b[1;31mView Jupyter <a href='command:jupyter.viewOutput'>log</a> for further details."
     ]
    }
   ],
   "source": [
    "class TemperatureScaling(torch.nn.Module):\n",
    "    def __init__(self):\n",
    "        super(TemperatureScaling, self).__init__()\n",
    "        self.temperature = torch.nn.Parameter(torch.ones(1) * 1.5)  # Initial temperature\n",
    "\n",
    "    def forward(self, logits):\n",
    "        return logits / self.temperature"
   ]
  },
  {
   "cell_type": "code",
   "execution_count": null,
   "metadata": {},
   "outputs": [
    {
     "data": {
      "text/plain": [
       "torch.float16"
      ]
     },
     "execution_count": 19,
     "metadata": {},
     "output_type": "execute_result"
    },
    {
     "ename": "",
     "evalue": "",
     "output_type": "error",
     "traceback": [
      "\u001b[1;31mnotebook controller is DISPOSED. \n",
      "\u001b[1;31mView Jupyter <a href='command:jupyter.viewOutput'>log</a> for further details."
     ]
    }
   ],
   "source": [
    "logits_tensor.dtype"
   ]
  },
  {
   "cell_type": "code",
   "execution_count": null,
   "metadata": {},
   "outputs": [
    {
     "ename": "",
     "evalue": "",
     "output_type": "error",
     "traceback": [
      "\u001b[1;31mnotebook controller is DISPOSED. \n",
      "\u001b[1;31mView Jupyter <a href='command:jupyter.viewOutput'>log</a> for further details."
     ]
    }
   ],
   "source": [
    "labels = labels.type(torch.float16)"
   ]
  },
  {
   "cell_type": "code",
   "execution_count": null,
   "metadata": {},
   "outputs": [
    {
     "name": "stdout",
     "output_type": "stream",
     "text": [
      "Optimal Temperature: 1.6404436826705933\n"
     ]
    },
    {
     "ename": "",
     "evalue": "",
     "output_type": "error",
     "traceback": [
      "\u001b[1;31mnotebook controller is DISPOSED. \n",
      "\u001b[1;31mView Jupyter <a href='command:jupyter.viewOutput'>log</a> for further details."
     ]
    }
   ],
   "source": [
    "from torch.nn import functional as F\n",
    "\n",
    "def optimize_temperature(logits, labels):\n",
    "    temperature_model = TemperatureScaling().to(device)\n",
    "    optimizer = torch.optim.LBFGS([temperature_model.temperature], lr=0.0001, max_iter=10000)\n",
    "\n",
    "    def loss_fn():\n",
    "        optimizer.zero_grad()\n",
    "        loss = F.cross_entropy(temperature_model(logits), labels)\n",
    "        loss.backward()\n",
    "        return loss\n",
    "\n",
    "    optimizer.step(loss_fn)\n",
    "    return temperature_model.temperature.item()\n",
    "\n",
    "optimal_temperature = optimize_temperature(logits_tensor.to(device), labels.to(device))\n",
    "print(f\"Optimal Temperature: {optimal_temperature}\")"
   ]
  },
  {
   "cell_type": "code",
   "execution_count": null,
   "metadata": {},
   "outputs": [
    {
     "data": {
      "text/plain": [
       "array([[0.38301918, 0.05470297, 0.56227791],\n",
       "       [0.13922425, 0.51501262, 0.34576312],\n",
       "       [0.34407678, 0.32063654, 0.33528671],\n",
       "       ...,\n",
       "       [0.18897924, 0.32525381, 0.48576692],\n",
       "       [0.1751326 , 0.20940168, 0.61546576],\n",
       "       [0.15700088, 0.52085418, 0.32214487]])"
      ]
     },
     "execution_count": 40,
     "metadata": {},
     "output_type": "execute_result"
    },
    {
     "ename": "",
     "evalue": "",
     "output_type": "error",
     "traceback": [
      "\u001b[1;31mnotebook controller is DISPOSED. \n",
      "\u001b[1;31mView Jupyter <a href='command:jupyter.viewOutput'>log</a> for further details."
     ]
    }
   ],
   "source": [
    "y_pred"
   ]
  },
  {
   "cell_type": "code",
   "execution_count": null,
   "metadata": {},
   "outputs": [
    {
     "name": "stdout",
     "output_type": "stream",
     "text": [
      "Log Loss for winner_model_a: 0.5351381970630059\n",
      "Log Loss for winner_model_b: 0.5330849072025453\n",
      "Log Loss for winner_tie: 0.5664459252950702\n",
      "Overall Log Loss: 1.3668954295638178\n"
     ]
    },
    {
     "ename": "",
     "evalue": "",
     "output_type": "error",
     "traceback": [
      "\u001b[1;31mnotebook controller is DISPOSED. \n",
      "\u001b[1;31mView Jupyter <a href='command:jupyter.viewOutput'>log</a> for further details."
     ]
    }
   ],
   "source": [
    "# Calculate the log loss with the optimal temperature\n",
    "from sklearn.metrics import log_loss\n",
    "\n",
    "optimal_temperature = 1.0\n",
    "\n",
    "y_true = df_merged[[\"winner_model_a\", \"winner_model_b\", \"winner_tie\"]].values\n",
    "y_pred = df_merged[[\"winner_model_a_pred\", \"winner_model_b_pred\", \"winner_tie_pred\"]].values\n",
    "\n",
    "log_loss_a = log_loss(y_true[:, 0], y_pred[:, 0] / optimal_temperature)\n",
    "log_loss_b = log_loss(y_true[:, 1], y_pred[:, 1] / optimal_temperature)\n",
    "log_loss_tie = log_loss(y_true[:, 2], y_pred[:, 2] / optimal_temperature)\n",
    "\n",
    "# Calculate overall log loss\n",
    "overall_log_loss = log_loss(y_true, (logits_tensor / optimal_temperature).softmax(-1).cpu().numpy())\n",
    "\n",
    "# Print log loss values\n",
    "print(f\"Log Loss for winner_model_a: {log_loss_a}\")\n",
    "print(f\"Log Loss for winner_model_b: {log_loss_b}\")\n",
    "print(f\"Log Loss for winner_tie: {log_loss_tie}\")\n",
    "print(f\"Overall Log Loss: {overall_log_loss}\")"
   ]
  },
  {
   "cell_type": "code",
   "execution_count": null,
   "metadata": {},
   "outputs": [
    {
     "data": {
      "text/plain": [
       "(5748, 3)"
      ]
     },
     "execution_count": 43,
     "metadata": {},
     "output_type": "execute_result"
    },
    {
     "ename": "",
     "evalue": "",
     "output_type": "error",
     "traceback": [
      "\u001b[1;31mnotebook controller is DISPOSED. \n",
      "\u001b[1;31mView Jupyter <a href='command:jupyter.viewOutput'>log</a> for further details."
     ]
    }
   ],
   "source": [
    "y_pred.shape"
   ]
  },
  {
   "cell_type": "code",
   "execution_count": null,
   "metadata": {},
   "outputs": [
    {
     "ename": "",
     "evalue": "",
     "output_type": "error",
     "traceback": [
      "\u001b[1;31mnotebook controller is DISPOSED. \n",
      "\u001b[1;31mView Jupyter <a href='command:jupyter.viewOutput'>log</a> for further details."
     ]
    }
   ],
   "source": [
    "(logits_tensor[0] / 3).softmax(-1).cpu()"
   ]
  },
  {
   "cell_type": "code",
   "execution_count": null,
   "metadata": {},
   "outputs": [
    {
     "ename": "",
     "evalue": "",
     "output_type": "error",
     "traceback": [
      "\u001b[1;31mnotebook controller is DISPOSED. \n",
      "\u001b[1;31mView Jupyter <a href='command:jupyter.viewOutput'>log</a> for further details."
     ]
    }
   ],
   "source": [
    "(logits_tensor[0]).softmax(-1).cpu()"
   ]
  },
  {
   "cell_type": "code",
   "execution_count": null,
   "metadata": {},
   "outputs": [
    {
     "ename": "",
     "evalue": "",
     "output_type": "error",
     "traceback": [
      "\u001b[1;31mnotebook controller is DISPOSED. \n",
      "\u001b[1;31mView Jupyter <a href='command:jupyter.viewOutput'>log</a> for further details."
     ]
    }
   ],
   "source": []
  }
 ],
 "metadata": {
  "kernelspec": {
   "display_name": "Python 3 (ipykernel)",
   "language": "python",
   "name": "python3"
  }
 },
 "nbformat": 4,
 "nbformat_minor": 2
}
